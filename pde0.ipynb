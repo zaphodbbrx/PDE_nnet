{
 "cells": [
  {
   "cell_type": "code",
   "execution_count": 1,
   "metadata": {},
   "outputs": [],
   "source": [
    "from itertools import permutations\n",
    "from random import shuffle\n",
    "\n",
    "import tensorflow as tf\n",
    "import numpy as np\n",
    "from tqdm import tqdm\n",
    "import matplotlib.pyplot as plt\n",
    "\n",
    "%matplotlib inline"
   ]
  },
  {
   "cell_type": "code",
   "execution_count": 2,
   "metadata": {},
   "outputs": [],
   "source": [
    "learning_rate = 0.001\n",
    "num_steps = 100\n",
    "batch_size = 16\n",
    "display_step = 1000\n",
    "n_epochs = 2\n",
    "\n",
    "# Network Parameters\n",
    "n_hidden_1 = 256 # 1st layer number of neurons\n",
    "n_hidden_2 = 128 # 2nd layer number of neurons\n",
    "num_input = 2 \n",
    "num_classes = 1\n",
    "\n",
    "#Equation Parameters\n",
    "D = 1\n",
    "C0 = 0.1\n",
    "\n",
    "\n",
    "# tf Graph input\n",
    "X = tf.placeholder(\"float\", [None, 1])\n",
    "T = tf.placeholder(\"float\", [None, 1])"
   ]
  },
  {
   "cell_type": "code",
   "execution_count": 3,
   "metadata": {},
   "outputs": [],
   "source": [
    "x = np.linspace(start=0,stop=10,num=1000).reshape(-1,1)\n",
    "t = np.linspace(start=0,stop=100,num=1000).reshape(-1,1)"
   ]
  },
  {
   "cell_type": "code",
   "execution_count": 4,
   "metadata": {},
   "outputs": [],
   "source": [
    "weights = {\n",
    "    'h1': tf.Variable(tf.random_normal([num_input, n_hidden_1])),\n",
    "    #'h2': tf.Variable(tf.random_normal([n_hidden_1, n_hidden_2])),\n",
    "    'out': tf.Variable(tf.random_normal([n_hidden_1, num_classes]))\n",
    "}\n",
    "biases = {\n",
    "    'b1': tf.Variable(tf.random_normal([n_hidden_1])),\n",
    "    #'b2': tf.Variable(tf.random_normal([n_hidden_2])),\n",
    "    'out': tf.Variable(tf.random_normal([num_classes]))\n",
    "}\n"
   ]
  },
  {
   "cell_type": "code",
   "execution_count": 5,
   "metadata": {},
   "outputs": [],
   "source": [
    "# Create model\n",
    "def neural_net(x,t):\n",
    "    netin = tf.concat([x,t],1)\n",
    "    # Hidden fully connected layer with 256 neurons\n",
    "    layer_1 = tf.add(tf.matmul(netin, weights['h1']), biases['b1'])\n",
    "    # Hidden fully connected layer with 256 neurons\n",
    "    layer_1 = tf.nn.sigmoid(layer_1)\n",
    "    out_layer = tf.matmul(layer_1, weights['out']) + biases['out']\n",
    "    out_layer = tf.nn.sigmoid(out_layer)\n",
    "    return out_layer"
   ]
  },
  {
   "cell_type": "code",
   "execution_count": 6,
   "metadata": {},
   "outputs": [
    {
     "data": {
      "text/plain": [
       "<tf.Tensor 'strided_slice:0' shape=() dtype=int32>"
      ]
     },
     "execution_count": 6,
     "metadata": {},
     "output_type": "execute_result"
    }
   ],
   "source": [
    "tf.shape(X)[0]"
   ]
  },
  {
   "cell_type": "code",
   "execution_count": 7,
   "metadata": {},
   "outputs": [],
   "source": [
    "zero = X*0.0\n",
    "net = neural_net(X, T)\n",
    "net_dt = tf.concat(tf.gradients(xs = [T],ys = net), 1)\n",
    "net_dx1 = tf.concat(tf.gradients(xs = [X], ys = net), 1)\n",
    "net_dx2 = tf.concat(tf.gradients(xs = [X], ys = net_dx1), 1)"
   ]
  },
  {
   "cell_type": "code",
   "execution_count": 8,
   "metadata": {},
   "outputs": [],
   "source": [
    "loss_op = tf.square(D*net_dx2-net_dt)+tf.square(neural_net(zero,T)-C0)+tf.square(neural_net(X,zero))\n",
    "optimizer = tf.train.AdamOptimizer(learning_rate=learning_rate)\n",
    "train_op = optimizer.minimize(loss_op)"
   ]
  },
  {
   "cell_type": "code",
   "execution_count": 13,
   "metadata": {},
   "outputs": [],
   "source": [
    "class BatchGenerator:\n",
    "    def __init__(self, n_samples, batch_size):\n",
    "        self.n_samples = n_samples\n",
    "        self.idx = list(range(n_samples))\n",
    "        shuffle(self.idx)\n",
    "        self.current = 0\n",
    "        self.batch_size = batch_size\n",
    "        self.iter = permutations(self.idx,2)\n",
    "    \n",
    "    def __len__(self):\n",
    "        return int(len(self.iter)/self.batch_size)\n",
    "    \n",
    "    def __iter__(self):\n",
    "        return self\n",
    "    \n",
    "    def __next__(self):\n",
    "        idx,idt = [],[]\n",
    "        for i in range(self.batch_size):\n",
    "            x, t = next(self.iter)\n",
    "            idx.append(x)\n",
    "            idt.append(t)\n",
    "        return idx,idt"
   ]
  },
  {
   "cell_type": "code",
   "execution_count": 14,
   "metadata": {},
   "outputs": [
    {
     "name": "stderr",
     "output_type": "stream",
     "text": [
      "62437it [01:36, 646.84it/s]\n",
      "62437it [01:50, 562.72it/s]\n"
     ]
    }
   ],
   "source": [
    "init = tf.global_variables_initializer()\n",
    "losses = []\n",
    "saver = tf.train.Saver()\n",
    "with tf.Session() as sess:\n",
    "    sess.run(init)\n",
    "    for epoch in range(n_epochs):\n",
    "        batch_generator = BatchGenerator(n_samples=x.shape[0],batch_size=batch_size)\n",
    "        for batch_idx,batch_idt in tqdm(batch_generator):\n",
    "            #batch_idx = np.random.randint(low=0,high = x.shape[0],size = batch_size)\n",
    "            #batch_idt = np.random.randint(low=0,high = x.shape[0],size = batch_size)\n",
    "            batch_x = x[batch_idx]\n",
    "            batch_t = t[batch_idt]\n",
    "            sess.run(train_op, feed_dict={X: batch_x, T: batch_t})\n",
    "        # Calculate batch loss and accuracy\n",
    "        loss = sess.run(loss_op, feed_dict={X: batch_x,T: batch_t})\n",
    "        #print(\"Step \" + str(step) + \", Minibatch Loss= \" + \"{:.4f}\".format(loss))\n",
    "        losses.append(loss)\n",
    "        #print(loss)\n",
    "    saver.save(sess, './solution.ckpt')"
   ]
  },
  {
   "cell_type": "code",
   "execution_count": 15,
   "metadata": {},
   "outputs": [
    {
     "data": {
      "text/plain": [
       "[array([[1.7018351e-06],\n",
       "        [2.8048919e-07],\n",
       "        [2.7779870e-06],\n",
       "        [1.0950333e-06],\n",
       "        [1.5995081e-06],\n",
       "        [1.1524130e-06],\n",
       "        [2.5739278e-06],\n",
       "        [3.7319379e-07],\n",
       "        [1.5101404e-06],\n",
       "        [2.1572009e-06],\n",
       "        [4.6465891e-07],\n",
       "        [6.0313312e-07],\n",
       "        [4.7842127e-07],\n",
       "        [2.6857697e-06],\n",
       "        [1.0241814e-06],\n",
       "        [7.4880711e-07]], dtype=float32), array([[4.4789281e-06],\n",
       "        [1.8659332e-04],\n",
       "        [4.7868230e-06],\n",
       "        [6.6444568e-06],\n",
       "        [6.6155944e-06],\n",
       "        [6.8007485e-06],\n",
       "        [5.7964799e-06],\n",
       "        [5.0326857e-06],\n",
       "        [4.7010849e-06],\n",
       "        [5.8965634e-06],\n",
       "        [6.6094622e-06],\n",
       "        [5.3599083e-06],\n",
       "        [4.4246058e-06],\n",
       "        [1.3194348e-05],\n",
       "        [5.4300012e-06],\n",
       "        [6.6562116e-06]], dtype=float32)]"
      ]
     },
     "execution_count": 15,
     "metadata": {},
     "output_type": "execute_result"
    }
   ],
   "source": [
    "losses"
   ]
  },
  {
   "cell_type": "code",
   "execution_count": 32,
   "metadata": {},
   "outputs": [
    {
     "name": "stdout",
     "output_type": "stream",
     "text": [
      "INFO:tensorflow:Restoring parameters from ./solution.ckpt\n"
     ]
    }
   ],
   "source": [
    "init = tf.global_variables_initializer()\n",
    "#tf.reset_default_graph()\n",
    "with tf.Session() as sess:\n",
    "    sess.run(init)\n",
    "    saver.restore(sess,'./solution.ckpt')\n",
    "    x_in = x.reshape(-1,1)\n",
    "    t_in = 50.0*np.ones(x.shape[0]).reshape(-1,1)\n",
    "    profile = sess.run(net, feed_dict={X:x_in,T:t_in})"
   ]
  },
  {
   "cell_type": "code",
   "execution_count": 34,
   "metadata": {},
   "outputs": [],
   "source": [
    "def compute_profile(time, model_path='./solution.ckpt'):\n",
    "    init = tf.global_variables_initializer()\n",
    "    with tf.Session() as sess:\n",
    "        sess.run(init)\n",
    "        saver.restore(sess,'./solution.ckpt')\n",
    "        x_in = x.reshape(-1,1)\n",
    "        t_in = time*np.ones(x.shape[0]).reshape(-1,1)\n",
    "        profile = sess.run(net, feed_dict={X:x_in,T:t_in})\n",
    "    return profile"
   ]
  },
  {
   "cell_type": "code",
   "execution_count": 35,
   "metadata": {},
   "outputs": [
    {
     "name": "stdout",
     "output_type": "stream",
     "text": [
      "INFO:tensorflow:Restoring parameters from ./solution.ckpt\n"
     ]
    }
   ],
   "source": [
    "profile = compute_profile(0)"
   ]
  },
  {
   "cell_type": "code",
   "execution_count": 36,
   "metadata": {},
   "outputs": [
    {
     "data": {
      "text/plain": [
       "8.027246e-05"
      ]
     },
     "execution_count": 36,
     "metadata": {},
     "output_type": "execute_result"
    }
   ],
   "source": [
    "np.mean(profile)"
   ]
  },
  {
   "cell_type": "code",
   "execution_count": 51,
   "metadata": {},
   "outputs": [
    {
     "name": "stdout",
     "output_type": "stream",
     "text": [
      "INFO:tensorflow:Restoring parameters from ./solution.ckpt\n",
      "INFO:tensorflow:Restoring parameters from ./solution.ckpt\n",
      "INFO:tensorflow:Restoring parameters from ./solution.ckpt\n",
      "INFO:tensorflow:Restoring parameters from ./solution.ckpt\n",
      "INFO:tensorflow:Restoring parameters from ./solution.ckpt\n",
      "INFO:tensorflow:Restoring parameters from ./solution.ckpt\n",
      "INFO:tensorflow:Restoring parameters from ./solution.ckpt\n"
     ]
    },
    {
     "data": {
      "image/png": "[encoded data removed]",
      "text/plain": [
       "<matplotlib.figure.Figure at 0x121359c88>"
      ]
     },
     "metadata": {},
     "output_type": "display_data"
    }
   ],
   "source": [
    "times = np.linspace(0,1,7).tolist()\n",
    "legend = []\n",
    "for time in times:\n",
    "    profile = compute_profile(time)\n",
    "    plt.plot(x,profile)\n",
    "    legend.append(f\"t={time}\")\n",
    "plt.legend(legend)\n",
    "plt.show()"
   ]
  },
  {
   "cell_type": "code",
   "execution_count": 37,
   "metadata": {},
   "outputs": [
    {
     "data": {
      "text/plain": [
       "<matplotlib.collections.PathCollection at 0x1211edb00>"
      ]
     },
     "execution_count": 37,
     "metadata": {},
     "output_type": "execute_result"
    },
    {
     "data": {
      "image/png": "[encoded data removed]",
      "text/plain": [
       "<matplotlib.figure.Figure at 0x12111cf28>"
      ]
     },
     "metadata": {},
     "output_type": "display_data"
    }
   ],
   "source": [
    "plt.scatter(x=t,y = profile)"
   ]
  }
 ],
 "metadata": {
  "kernelspec": {
   "display_name": "Python 3",
   "language": "python",
   "name": "python3"
  },
  "language_info": {
   "codemirror_mode": {
    "name": "ipython",
    "version": 3
   },
   "file_extension": ".py",
   "mimetype": "text/x-python",
   "name": "python",
   "nbconvert_exporter": "python",
   "pygments_lexer": "ipython3",
   "version": "3.6.3"
  }
 },
 "nbformat": 4,
 "nbformat_minor": 2
}
